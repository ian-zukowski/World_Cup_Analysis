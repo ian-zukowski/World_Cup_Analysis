{
 "cells": [
  {
   "cell_type": "code",
   "execution_count": null,
   "id": "d08361b7",
   "metadata": {},
   "outputs": [],
   "source": [
    "# Add Matplotlib inline magic command\n",
    "%matplotlib inline\n",
    "\n",
    "import pandas as pd\n",
    "import numpy as np\n",
    "import matplotlib.pyplot as plt\n",
    "import math\n",
    "import re"
   ]
  },
  {
   "cell_type": "code",
   "execution_count": null,
   "id": "ca3303d6",
   "metadata": {},
   "outputs": [],
   "source": [
    "file_dir='C://Users/Ian/Desktop/Misc_Projects/World_Cup_Analysis/Data'\n",
    "\n",
    "matches = pd.read_csv(f'{file_dir}/import_matches_transformed.csv')\n",
    "players = pd.read_csv(f'{file_dir}/WorldCupPlayers.csv')\n",
    "\n",
    "\n",
    "pd.options.display.float_format = '{:.2f}'.format"
   ]
  },
  {
   "cell_type": "code",
   "execution_count": null,
   "id": "5c64518e",
   "metadata": {
    "scrolled": true
   },
   "outputs": [],
   "source": [
    "matches.head(50)"
   ]
  },
  {
   "cell_type": "markdown",
   "id": "a1e11842",
   "metadata": {},
   "source": [
    "# MORE TRANSFORMATIONS"
   ]
  },
  {
   "cell_type": "markdown",
   "id": "fd95ed8a",
   "metadata": {},
   "source": [
    "### Add columns for goals in 1st/2nd half"
   ]
  },
  {
   "cell_type": "code",
   "execution_count": null,
   "id": "20818d0e",
   "metadata": {},
   "outputs": [],
   "source": [
    "# Change appropriate columns to 'home_score_half1'\n",
    "matches = matches.rename(columns={'home_score_45':'home_score_half1','away_score_45':'away_score_half1'})"
   ]
  },
  {
   "cell_type": "code",
   "execution_count": null,
   "id": "e99dacd3",
   "metadata": {},
   "outputs": [],
   "source": [
    "# Add a 'home_score_half2' column\n",
    "matches['home_score_half2'] = matches['home_score_final'] - matches['home_score_half1']\n",
    "matches['away_score_half2'] = matches['away_score_final'] - matches['away_score_half1']"
   ]
  },
  {
   "cell_type": "code",
   "execution_count": null,
   "id": "4040644e",
   "metadata": {},
   "outputs": [],
   "source": [
    "cols = ['matchID', 'roundID', 'match_date', 'year', 'country', 'city', 'stadium', 'attendance',\n",
    "       'stage', 'home_name', 'home_init', 'away_name', 'away_init',\n",
    "       'home_score_half1', 'away_score_half1', 'home_score_half2', 'away_score_half2',\n",
    "        'home_score_final', 'away_score_final', 'winner']\n",
    "\n",
    "matches = matches[cols]"
   ]
  },
  {
   "cell_type": "code",
   "execution_count": null,
   "id": "51dbb0f8",
   "metadata": {},
   "outputs": [],
   "source": [
    "matches"
   ]
  },
  {
   "cell_type": "code",
   "execution_count": null,
   "id": "2ba86e6f",
   "metadata": {},
   "outputs": [],
   "source": [
    "# Add columns for 'winning score' and 'losing score'\n",
    "def winner_halftime_score(row):\n",
    "    if row['winner'] == row['home_name']:\n",
    "        return row['home_score_half1']\n",
    "    if row['winner'] == row['away_name']:\n",
    "        return row['away_score_half1']\n",
    "    \n",
    "def winner_half2_score(row):\n",
    "    if row['winner'] == row['home_name']:\n",
    "        return row['home_score_final']-row['home_score_half1']\n",
    "    if row['winner'] == row['away_name']:\n",
    "        return row['away_score_final']-row['away_score_half1']\n",
    "    \n",
    "def winner_final_score(row):\n",
    "    if row['winner'] == row['home_name']:\n",
    "        return row['home_score_final']\n",
    "    if row['winner'] == row['away_name']:\n",
    "        return row['away_score_final']\n",
    "    \n",
    "def loser_halftime_score(row):\n",
    "    if row['winner'] == row['home_name']:\n",
    "        return row['away_score_half1']\n",
    "    if row['winner'] == row['away_name']:\n",
    "        return row['home_score_half1']\n",
    "    \n",
    "def loser_half2_score(row):\n",
    "    if row['winner'] == row['home_name']:\n",
    "        return row['away_score_final']-row['away_score_half1']\n",
    "    if row['winner'] == row['away_name']:\n",
    "        return row['home_score_final']-row['home_score_half1']\n",
    "    \n",
    "def loser_final_score(row):\n",
    "    if row['winner'] == row['home_name']:\n",
    "        return row['away_score_final']\n",
    "    if row['winner'] == row['away_name']:\n",
    "        return row['home_score_final']"
   ]
  },
  {
   "cell_type": "code",
   "execution_count": null,
   "id": "c950bfa7",
   "metadata": {
    "scrolled": true
   },
   "outputs": [],
   "source": [
    "matches['winning_score_half1'] = matches.apply(lambda row: winner_halftime_score(row), axis=1)\n",
    "matches['losing_score_half1'] = matches.apply(lambda row: loser_halftime_score(row), axis=1)\n",
    "\n",
    "matches['winning_score_half2'] = matches.apply(lambda row: winner_half2_score(row), axis=1)\n",
    "matches['losing_score_half2'] = matches.apply(lambda row: loser_half2_score(row), axis=1)\n",
    "\n",
    "matches['winning_score_final'] = matches.apply(lambda row: winner_final_score(row), axis=1)\n",
    "matches['losing_score_final'] = matches.apply(lambda row: loser_final_score(row), axis=1)"
   ]
  },
  {
   "cell_type": "markdown",
   "id": "0fa3eb12",
   "metadata": {},
   "source": [
    "### Fix Yugoslavia name inconsitincies"
   ]
  },
  {
   "cell_type": "code",
   "execution_count": null,
   "id": "407182af",
   "metadata": {
    "scrolled": true
   },
   "outputs": [],
   "source": [
    "# Double check if there are any rows with null winning/losing scores where it was NOT a draw\n",
    "matches.loc[(matches['winning_score_half1'].isnull()==True)&(matches['home_score_final']!=matches['away_score_final'])]"
   ]
  },
  {
   "cell_type": "code",
   "execution_count": null,
   "id": "2adaeef5",
   "metadata": {},
   "outputs": [],
   "source": [
    "# Functions to change 'FR Yugoslavia' into format that works with winning/losing score functions\n",
    "def change_yugoslavia_away(row):\n",
    "    if (row['away_name'] == 'FR Yugoslavia'):\n",
    "        return 'Yugoslavia'\n",
    "    else:\n",
    "        return row['away_name']\n",
    "\n",
    "def change_yugoslavia_winner(row):\n",
    "    if (row['winner'] == 'FR Yugoslavia'):\n",
    "        return 'Yugoslavia'\n",
    "    else:\n",
    "        return row['winner']"
   ]
  },
  {
   "cell_type": "code",
   "execution_count": null,
   "id": "db17dbc6",
   "metadata": {},
   "outputs": [],
   "source": [
    "# Apply the new functions to change 'FR Yugoslavia' into format that works with the new column functions\n",
    "matches['away_name'] = matches.apply(lambda row: change_yugoslavia_away(row), axis=1)\n",
    "matches['winner'] = matches.apply(lambda row: change_yugoslavia_winner(row), axis=1)\n",
    "matches['winning_score_half1'] = matches.apply(lambda row: winner_halftime_score(row), axis=1)\n",
    "matches['losing_score_half1'] = matches.apply(lambda row: loser_halftime_score(row), axis=1)\n",
    "matches['winning_score_final'] = matches.apply(lambda row: winner_final_score(row), axis=1)\n",
    "matches['losing_score_final'] = matches.apply(lambda row: loser_final_score(row), axis=1)"
   ]
  },
  {
   "cell_type": "code",
   "execution_count": null,
   "id": "27b9b5fb",
   "metadata": {
    "scrolled": true
   },
   "outputs": [],
   "source": [
    "# Verify no more weird cases\n",
    "matches.loc[(matches['winning_score_half1'].isnull()==True)&(matches['home_score_final']!=matches['away_score_final'])]"
   ]
  },
  {
   "cell_type": "code",
   "execution_count": null,
   "id": "35029125",
   "metadata": {
    "scrolled": true
   },
   "outputs": [],
   "source": [
    "# Verify those matches have results now for winning/losing scores\n",
    "matches.loc[matches['winner']=='Yugoslavia']"
   ]
  },
  {
   "cell_type": "markdown",
   "id": "89b73ff5",
   "metadata": {},
   "source": [
    "### Fix group stage and consolidate final two matchs (1st/2nd and 3rd/4th) into \"final round\" in 'stage' column"
   ]
  },
  {
   "cell_type": "markdown",
   "id": "07463340",
   "metadata": {},
   "source": [
    "#### Note that world cups in 1974, 1978, 1982 had a double-group stage format. We will consider the '2nd group stage' to be the 'Round of 16' for those years"
   ]
  },
  {
   "cell_type": "code",
   "execution_count": null,
   "id": "5e701802",
   "metadata": {},
   "outputs": [],
   "source": [
    "# Change stage results where it says 'group' something to just 'group'\n",
    "stages = matches['stage']\n",
    "\n",
    "stages.unique()"
   ]
  },
  {
   "cell_type": "code",
   "execution_count": null,
   "id": "93dadd3e",
   "metadata": {},
   "outputs": [],
   "source": [
    "second_groups = matches.loc[(matches['year']==1974)|(matches['year']==1978)|(matches['year']==1982)]\n",
    "second_groups.loc[(second_groups['stage']=='Group A')|\n",
    "                  (second_groups['stage']=='Group B')|\n",
    "                  (second_groups['stage']=='Group C')|\n",
    "                  (second_groups['stage']=='Group D')]"
   ]
  },
  {
   "cell_type": "code",
   "execution_count": null,
   "id": "2c191df2",
   "metadata": {},
   "outputs": [],
   "source": [
    "second_groups_stages = second_groups['stage']\n",
    "second_groups_stages = second_groups_stages.replace(r'Group [ABCD]','Round of 16', regex=True)\n",
    "second_groups['stage'] = second_groups_stages\n",
    "second_groups.loc[second_groups['stage']=='Round of 16']"
   ]
  },
  {
   "cell_type": "code",
   "execution_count": null,
   "id": "6e5bae24",
   "metadata": {},
   "outputs": [],
   "source": [
    "matches.loc[(matches['year']==1974)|(matches['year']==1978)|(matches['year']==1982)] = second_groups"
   ]
  },
  {
   "cell_type": "code",
   "execution_count": null,
   "id": "0044d673",
   "metadata": {
    "scrolled": true
   },
   "outputs": [],
   "source": [
    "stages = stages.replace(r'Group \\d','Groups',regex=True)\n",
    "stages = stages.replace(r'Group [ABCDEFGH]','Groups',regex=True)\n",
    "stages = stages.replace(r' Groups','Groups',regex=True)\n",
    "\n",
    "stages = stages.replace(r'Final Round','Final',regex=True)\n",
    "stages = stages.replace(r'Final','Finals', regex=True)\n",
    "\n",
    "stages.unique()"
   ]
  },
  {
   "cell_type": "code",
   "execution_count": null,
   "id": "8b53a409",
   "metadata": {
    "scrolled": true
   },
   "outputs": [],
   "source": [
    "matches['stage'] = stages\n",
    "\n",
    "matches"
   ]
  },
  {
   "cell_type": "markdown",
   "id": "4dd9da5f",
   "metadata": {},
   "source": [
    "### Fix corrupted stadium names"
   ]
  },
  {
   "cell_type": "code",
   "execution_count": null,
   "id": "031b9e10",
   "metadata": {},
   "outputs": [],
   "source": [
    "# Find any stadium names that use special characters\n",
    "stadiums = matches['stadium'][matches['stadium'].str.contains(\"�\")]"
   ]
  },
  {
   "cell_type": "code",
   "execution_count": null,
   "id": "7a12e2d9",
   "metadata": {},
   "outputs": [],
   "source": [
    "stadiums = stadiums.replace(r'Stade V�lodrome','Stade Vélodrome', regex=True)\n",
    "stadiums = stadiums.replace(r'Maracan� - Est�dio Jornalista M�rio Filho','Maracanã - Estádio Jornalista Mário Filho', regex=True)\n",
    "stadiums = stadiums.replace(r'Nou Camp - Estadio Le�n','Nou Camp - Estadio León', regex=True)\n",
    "stadiums = stadiums.replace(r'Estadio Jos� Mar�a Minella','Estadio José María Minella', regex=True)\n",
    "stadiums = stadiums.replace(r'Estadio Ol�mpico Chateau Carreras','Estadio Olímpico Cordoba', regex=True)\n",
    "stadiums = stadiums.replace(r'Estadio Municipal de Bala�dos','Estadio Municipal de Balaídos', regex=True)\n",
    "stadiums = stadiums.replace(r'Estadio Ol�mpico Universitario','Estadio Olímpico Universitario', regex=True)\n",
    "                            \n",
    "stadiums"
   ]
  },
  {
   "cell_type": "code",
   "execution_count": null,
   "id": "ab8ca116",
   "metadata": {
    "scrolled": true
   },
   "outputs": [],
   "source": [
    "# Replace the corrupted stadium names with correct versions\n",
    "matches['stadium'][matches['stadium'].str.contains(\"�\")] = stadiums\n",
    "\n",
    "# Check that the list of corrupted stadium names is null\n",
    "matches['stadium'][matches['stadium'].str.contains(\"�\")]\n",
    "\n",
    "# Verify that the stadium list still has 852 values\n",
    "matches['stadium']"
   ]
  },
  {
   "cell_type": "markdown",
   "id": "16f0871a",
   "metadata": {},
   "source": [
    "### Verify no other values are corrupted"
   ]
  },
  {
   "cell_type": "code",
   "execution_count": null,
   "id": "787c26b5",
   "metadata": {},
   "outputs": [],
   "source": [
    "matches.dtypes.loc[matches.dtypes == 'object']\n",
    "\n",
    "# matches[matches['country'].str.contains(\"�\")]\n",
    "# matches[matches['city'].str.contains(\"�\")]\n",
    "# matches[matches['stadium'].str.contains(\"�\")]\n",
    "# matches[matches['stage'].str.contains(\"�\")]\n",
    "# matches[matches['home_name'].str.contains(\"�\")]\n",
    "# matches[matches['home_init'].str.contains(\"�\")]\n",
    "# matches[matches['away_name'].str.contains(\"�\")]\n",
    "# matches[matches['away_init'].str.contains(\"�\")]\n",
    "matches[matches['winner'].str.contains(\"�\")]\n"
   ]
  },
  {
   "cell_type": "code",
   "execution_count": null,
   "id": "f7d01bc1",
   "metadata": {
    "scrolled": true
   },
   "outputs": [],
   "source": [
    "# Fix the single 'winner' value with a corrupted Cote d'Ivoire name\n",
    "matches['winner'].iloc[720] = \"Draw: Cote d'Ivoire\"\n",
    "matches['winner'].iloc[720]"
   ]
  },
  {
   "cell_type": "markdown",
   "id": "ad7de3c2",
   "metadata": {},
   "source": [
    "### Fix draws that resulted in penalty kicks"
   ]
  },
  {
   "cell_type": "code",
   "execution_count": null,
   "id": "1da59728",
   "metadata": {
    "scrolled": true
   },
   "outputs": [],
   "source": [
    "# Identify matches that might have had penalty kicks (i.e. Round of 16 or further)\n",
    "draws = matches[matches['winner'].str.contains('Draw')]\n",
    "\n",
    "draws[['match_date','home_name','away_name','stage']].loc[draws['stage']!='Groups']"
   ]
  },
  {
   "cell_type": "code",
   "execution_count": null,
   "id": "1348dfd7",
   "metadata": {},
   "outputs": [],
   "source": [
    "# Research results of those 40 matches\n",
    "matches['winner'].iloc[28] = 'Draw'\n",
    "matches['winner'].iloc[35] = 'Draw'\n",
    "matches['winner'].iloc[38] = 'Draw'\n",
    "matches['winner'].iloc[44] = 'Draw'\n",
    "matches['winner'].iloc[69] = 'Draw'\n",
    "matches['winner'].iloc[266] = 'Draw'\n",
    "matches['winner'].iloc[295] = 'Draw'\n",
    "matches['winner'].iloc[301] = 'Draw'\n",
    "matches['winner'].iloc[302] = 'Draw'\n",
    "matches['winner'].iloc[347] = 'Draw'\n",
    "matches['winner'].iloc[348] = 'Draw'\n",
    "matches['winner'].iloc[353] = 'Draw'\n",
    "matches['winner'].iloc[355] = 'Draw'\n",
    "matches['winner'].iloc[357] = 'West Germany'\n",
    "matches['winner'].iloc[404] = 'France'\n",
    "matches['winner'].iloc[405] = 'West Germany'\n",
    "matches['winner'].iloc[406] = 'Belgium'\n",
    "matches['winner'].iloc[452] = 'Republic of Ireland'\n",
    "matches['winner'].iloc[456] = 'Argentina'\n",
    "matches['winner'].iloc[460] = 'Argentina'\n",
    "matches['winner'].iloc[461] = 'West Germany'\n",
    "matches['winner'].iloc[507] = 'Bulgaria'\n",
    "matches['winner'].iloc[511] = 'Sweden'\n",
    "matches['winner'].iloc[515] = 'Brazil'\n",
    "matches['winner'].iloc[571] = 'Argentina'\n",
    "matches['winner'].iloc[572] = 'France'\n",
    "matches['winner'].iloc[576] = 'Brazil'\n",
    "matches['winner'].iloc[631] = 'Spain'\n",
    "matches['winner'].iloc[640] = 'South Korea'\n",
    "matches['winner'].iloc[697] = 'Ukraine'\n",
    "matches['winner'].iloc[700] = 'Germany'\n",
    "matches['winner'].iloc[702] = 'Portugal'\n",
    "matches['winner'].iloc[707] = 'Italy'\n",
    "matches['winner'].iloc[762] = 'Paraguay'\n",
    "matches['winner'].iloc[765] = 'Uruguay'\n",
    "matches['winner'].iloc[820] = 'Brazil'\n",
    "matches['winner'].iloc[829] = 'Argentina'\n",
    "matches['winner'].iloc[830] = 'Netherlands'\n",
    "matches['winner'].iloc[833] = 'Costa Rica'\n",
    "matches['winner'].iloc[836] = 'Brazil'\n",
    "matches['winner'].iloc[839] = 'Costa Rica'\n",
    "matches['winner'].iloc[847] = 'Netherlands'\n",
    "matches['winner'].iloc[849] = 'Argentina'"
   ]
  },
  {
   "cell_type": "code",
   "execution_count": null,
   "id": "96510548",
   "metadata": {},
   "outputs": [],
   "source": [
    "# Apply the winning/losing score functions to these fixed rows\n",
    "matches['winning_score_half1'] = matches.apply(lambda row: winner_halftime_score(row), axis=1)\n",
    "matches['losing_score_half1'] = matches.apply(lambda row: loser_halftime_score(row), axis=1)\n",
    "\n",
    "matches['winning_score_half2'] = matches.apply(lambda row: winner_half2_score(row), axis=1)\n",
    "matches['losing_score_half2'] = matches.apply(lambda row: loser_half2_score(row), axis=1)\n",
    "\n",
    "matches['winning_score_final'] = matches.apply(lambda row: winner_final_score(row), axis=1)\n",
    "matches['losing_score_final'] = matches.apply(lambda row: loser_final_score(row), axis=1)"
   ]
  },
  {
   "cell_type": "code",
   "execution_count": null,
   "id": "3adae542",
   "metadata": {
    "scrolled": true
   },
   "outputs": [],
   "source": [
    "# Verify it worked\n",
    "matches.iloc[836]"
   ]
  },
  {
   "cell_type": "markdown",
   "id": "71cf9683",
   "metadata": {},
   "source": [
    "### Fix the 'winner' value for the rest of the draws (now that everything has been merged in SQL)"
   ]
  },
  {
   "cell_type": "code",
   "execution_count": null,
   "id": "63b72c1b",
   "metadata": {
    "scrolled": true
   },
   "outputs": [],
   "source": [
    "# Find the actual draws with no pk winners (anything still containing the word 'Draw')\n",
    "actual_draws = matches[matches['winner'].str.contains('Draw')]\n",
    "\n",
    "actual_draws"
   ]
  },
  {
   "cell_type": "code",
   "execution_count": null,
   "id": "c6708891",
   "metadata": {},
   "outputs": [],
   "source": [
    "# Make a new function returning the string 'Draw'\n",
    "def return_draw(row):\n",
    "    return 'Draw'"
   ]
  },
  {
   "cell_type": "code",
   "execution_count": null,
   "id": "a992a03c",
   "metadata": {},
   "outputs": [],
   "source": [
    "# Apply that to the 'winner' row for any draws that didn't have pks\n",
    "actual_draws['winner'] = actual_draws.apply(lambda row: return_draw(row), axis=1)"
   ]
  },
  {
   "cell_type": "code",
   "execution_count": null,
   "id": "37f8ffe3",
   "metadata": {},
   "outputs": [],
   "source": [
    "# Transfer to the 'matches' dataframe\n",
    "matches[matches['winner'].str.contains('Draw')] = actual_draws"
   ]
  },
  {
   "cell_type": "code",
   "execution_count": null,
   "id": "d66792a0",
   "metadata": {},
   "outputs": [],
   "source": [
    "# Verify there are 160 rows in matches that now have 'Draw' as the winner\n",
    "matches.loc[matches['winner']=='Draw']"
   ]
  },
  {
   "cell_type": "markdown",
   "id": "b5e2b05c",
   "metadata": {},
   "source": [
    "# Analysis"
   ]
  },
  {
   "cell_type": "markdown",
   "id": "e409d4c6",
   "metadata": {},
   "source": [
    "# Trends in scores from year-to-year?"
   ]
  },
  {
   "cell_type": "code",
   "execution_count": null,
   "id": "238ff1f8",
   "metadata": {},
   "outputs": [],
   "source": [
    "# Group by year\n",
    "yearly_groups = matches.groupby('year')"
   ]
  },
  {
   "cell_type": "code",
   "execution_count": null,
   "id": "75e72f8e",
   "metadata": {},
   "outputs": [],
   "source": [
    "yearly_url = 'Analysis/Year-to-Year'"
   ]
  },
  {
   "cell_type": "code",
   "execution_count": null,
   "id": "4c652538",
   "metadata": {},
   "outputs": [],
   "source": [
    "yearly_groups.mean()"
   ]
  },
  {
   "cell_type": "code",
   "execution_count": null,
   "id": "36e2f4e6",
   "metadata": {
    "scrolled": true
   },
   "outputs": [],
   "source": [
    "winning_means_by_cup = yearly_groups['winning_score_final'].mean()\n",
    "losing_means_by_cup = yearly_groups['losing_score_final'].mean()"
   ]
  },
  {
   "cell_type": "code",
   "execution_count": null,
   "id": "4bc8c800",
   "metadata": {
    "scrolled": true
   },
   "outputs": [],
   "source": [
    "# Plot the winning and losing average scores for each world cup\n",
    "plt.plot(winning_means_by_cup)\n",
    "plt.plot(losing_means_by_cup)\n",
    "plt.legend(['Winning Score','Losing Score'])\n",
    "plt.title('Average Winning and Losing Scores by Year', fontsize=18)\n",
    "\n",
    "plt.savefig(f'{yearly_url}/Average_Scores_by_Year')"
   ]
  },
  {
   "cell_type": "code",
   "execution_count": null,
   "id": "fef1c1f6",
   "metadata": {},
   "outputs": [],
   "source": [
    "plt.plot(yearly_groups['winning_score_half1'].mean()+yearly_groups['losing_score_half1'].mean(), color='midnightblue')\n",
    "plt.plot(yearly_groups['winning_score_half2'].mean()+yearly_groups['losing_score_half2'].mean(), color='firebrick')\n",
    "\n",
    "plt.legend(['1st Half Goals','2nd Half Goals'])\n",
    "plt.title('Average Scores per Half', fontsize=18)\n",
    "\n",
    "plt.savefig(f'{yearly_url}/Average_Scores_per_Half')"
   ]
  },
  {
   "cell_type": "code",
   "execution_count": null,
   "id": "0131354f",
   "metadata": {},
   "outputs": [],
   "source": [
    "fig, axes = plt.subplots(1,2,figsize=(20,5))\n",
    "\n",
    "axes[0].plot(yearly_groups['winning_score_half1'].mean(), color='midnightblue')\n",
    "axes[0].plot(yearly_groups['winning_score_half2'].mean(), color='firebrick')\n",
    "\n",
    "axes[0].set_title('Average Goals by Match Winners',fontsize=24)\n",
    "axes[0].legend(['Winner 1st Half Goals','Winner 2nd Half Goals'])\n",
    "axes[0].set_yticks(np.arange(0,3.5,step=0.5))\n",
    "\n",
    "\n",
    "axes[1].plot(yearly_groups['losing_score_half1'].mean(), color='midnightblue')\n",
    "axes[1].plot(yearly_groups['losing_score_half2'].mean(), color='firebrick')\n",
    "\n",
    "axes[1].set_title('Average Goals by Match Losers',fontsize=24)\n",
    "axes[1].legend(['Loser 1st Half Goals','Loser 2nd Half Goals'])\n",
    "axes[1].set_yticks(np.arange(0,3.5,step=0.5))\n",
    "\n",
    "plt.savefig(f'{yearly_url}/Average_Goals_by_Half_(WinLoss)')"
   ]
  },
  {
   "cell_type": "code",
   "execution_count": null,
   "id": "754c98fe",
   "metadata": {
    "scrolled": true
   },
   "outputs": [],
   "source": [
    "# Determine average goal differential for each year\n",
    "plt.plot(winning_means_by_cup-losing_means_by_cup)\n",
    "plt.yticks(np.arange(0,4,step=0.5))\n",
    "\n",
    "plt.title('Average Goal Differential by Year', fontsize=18)\n",
    "\n",
    "plt.savefig(f'{yearly_url}/Average_Goal_Differential')"
   ]
  },
  {
   "cell_type": "markdown",
   "id": "6546c4ca",
   "metadata": {},
   "source": [
    "## Any trends in different stages per Year?"
   ]
  },
  {
   "cell_type": "code",
   "execution_count": null,
   "id": "f33a5322",
   "metadata": {},
   "outputs": [],
   "source": [
    "stages_df = matches.copy()"
   ]
  },
  {
   "cell_type": "code",
   "execution_count": null,
   "id": "9973d164",
   "metadata": {},
   "outputs": [],
   "source": [
    "# Consolidate third place match into the 'Final Round'\n",
    "stages = stages_df['stage']\n",
    "stages = stages.replace(r'Finals','Final Round',regex=True)\n",
    "stages = stages.replace(r'Third place','Final Round',regex=True)\n",
    "\n",
    "stages_df['stage'] = stages"
   ]
  },
  {
   "cell_type": "code",
   "execution_count": null,
   "id": "d7a06a37",
   "metadata": {},
   "outputs": [],
   "source": [
    "def stage_value(row):\n",
    "    if row['stage'] == 'Groups':\n",
    "        return 1\n",
    "    if row['stage'] == 'Round of 16':\n",
    "        return 2\n",
    "    if row['stage'] == 'Quarterfinals':\n",
    "        return 3\n",
    "    if row['stage'] == 'Semifinals':\n",
    "        return 4\n",
    "    if row['stage'] == ('Finals'):\n",
    "        return 5"
   ]
  },
  {
   "cell_type": "code",
   "execution_count": null,
   "id": "7f12633b",
   "metadata": {},
   "outputs": [],
   "source": [
    "stages_df['stage_value'] = matches.apply(lambda row: stage_value(row), axis=1)"
   ]
  },
  {
   "cell_type": "code",
   "execution_count": null,
   "id": "ef366f0a",
   "metadata": {},
   "outputs": [],
   "source": [
    "stage_groups = stages_df.groupby('stage')"
   ]
  },
  {
   "cell_type": "code",
   "execution_count": null,
   "id": "e41a58d8",
   "metadata": {},
   "outputs": [],
   "source": [
    "stage_means = stage_groups.mean().sort_values('stage_value')\n",
    "\n",
    "stage_means"
   ]
  },
  {
   "cell_type": "code",
   "execution_count": null,
   "id": "4eee2d0a",
   "metadata": {
    "scrolled": true
   },
   "outputs": [],
   "source": [
    "plt.plot(stage_means['winning_score_final'])\n",
    "plt.plot(stage_means['losing_score_final'])\n",
    "\n",
    "plt.title('Average Scores per Tournament Stage', fontsize=18)\n",
    "plt.legend(['Winning Score','Losing Score'])\n",
    "\n",
    "plt.savefig(f'{yearly_url}/Average_Scores_by_Stage')"
   ]
  },
  {
   "cell_type": "markdown",
   "id": "4b001946",
   "metadata": {},
   "source": [
    "# Best performances by host country? (furthest stage AND average furthest stage?)"
   ]
  },
  {
   "cell_type": "code",
   "execution_count": null,
   "id": "d48e7fb9",
   "metadata": {
    "scrolled": false
   },
   "outputs": [],
   "source": [
    "host_team_df = matches.loc[(matches['home_name']==matches['country'])|(matches['away_name']==matches['country'])]\n",
    "host_team_df[['stage','country','home_name','away_name','winner']].sample(5)"
   ]
  },
  {
   "cell_type": "code",
   "execution_count": null,
   "id": "571bd59c",
   "metadata": {},
   "outputs": [],
   "source": [
    "host_team_finals = host_team_df[['year','country','winner']].loc[host_team_df['stage']=='Finals']\n",
    "host_team_finals"
   ]
  },
  {
   "cell_type": "code",
   "execution_count": null,
   "id": "967a9ed2",
   "metadata": {},
   "outputs": [],
   "source": [
    "host_team_df['furthest_result'] = host_team_df['stage']"
   ]
  },
  {
   "cell_type": "code",
   "execution_count": null,
   "id": "a3d27b14",
   "metadata": {},
   "outputs": [],
   "source": [
    "def champion(row):\n",
    "    if (row['stage']=='Finals') & (row['winner']==row['country']):\n",
    "        return 'Champion'\n",
    "    else:\n",
    "        return row['stage']"
   ]
  },
  {
   "cell_type": "code",
   "execution_count": null,
   "id": "682d04db",
   "metadata": {},
   "outputs": [],
   "source": [
    "host_team_df['furthest_result'] = host_team_df.apply(lambda row: champion(row), axis=1)"
   ]
  },
  {
   "cell_type": "code",
   "execution_count": null,
   "id": "b5164b56",
   "metadata": {},
   "outputs": [],
   "source": [
    "def host_stage_value(row):\n",
    "    if row['furthest_result'] == 'Groups':\n",
    "        return 1\n",
    "    if row['furthest_result'] == 'Round of 16':\n",
    "        return 2\n",
    "    if row['furthest_result'] == 'Quarterfinals':\n",
    "        return 3\n",
    "    if row['furthest_result'] == 'Semifinals':\n",
    "        return 4\n",
    "    if row['furthest_result'] == 'Third place':\n",
    "        return 5\n",
    "    if row['furthest_result'] == 'Finals':\n",
    "        return 6\n",
    "    if row['furthest_result'] == 'Champion':\n",
    "        return 7"
   ]
  },
  {
   "cell_type": "code",
   "execution_count": null,
   "id": "08adbd0b",
   "metadata": {
    "scrolled": true
   },
   "outputs": [],
   "source": [
    "# Add in the stage value column and then sort it so that highest stage value goes first\n",
    "host_team_df['stage_value'] = host_team_df.apply(lambda row: host_stage_value(row), axis=1)\n",
    "\n",
    "host_team_df = host_team_df.sort_values('stage_value', ascending=False)"
   ]
  },
  {
   "cell_type": "code",
   "execution_count": null,
   "id": "62c5d42b",
   "metadata": {},
   "outputs": [],
   "source": [
    "host_team_df = host_team_df.reset_index(drop=True)"
   ]
  },
  {
   "cell_type": "code",
   "execution_count": null,
   "id": "ecb1cebf",
   "metadata": {},
   "outputs": [],
   "source": [
    "host_team_df"
   ]
  },
  {
   "cell_type": "code",
   "execution_count": null,
   "id": "c99b7133",
   "metadata": {},
   "outputs": [],
   "source": [
    "keys = []\n",
    "values = []"
   ]
  },
  {
   "cell_type": "code",
   "execution_count": null,
   "id": "a00fda93",
   "metadata": {},
   "outputs": [],
   "source": [
    "for i in range(len(host_team_df)):\n",
    "    if host_team_df['country'][i] not in keys:\n",
    "        keys.append(host_team_df['country'][i])\n",
    "        values.append(host_team_df['furthest_result'][i])"
   ]
  },
  {
   "cell_type": "code",
   "execution_count": null,
   "id": "e229644d",
   "metadata": {
    "scrolled": true
   },
   "outputs": [],
   "source": [
    "print(keys)\n",
    "print(values)"
   ]
  },
  {
   "cell_type": "code",
   "execution_count": null,
   "id": "6dd4ade5",
   "metadata": {},
   "outputs": [],
   "source": [
    "host_results_dict = {}\n",
    "\n",
    "for i in range(len(keys)):\n",
    "    host_results_dict[keys[i]]=values[i]"
   ]
  },
  {
   "cell_type": "code",
   "execution_count": null,
   "id": "60e166a4",
   "metadata": {
    "scrolled": false
   },
   "outputs": [],
   "source": [
    "host_results_dict"
   ]
  },
  {
   "cell_type": "markdown",
   "id": "4bd22629",
   "metadata": {},
   "source": [
    "# Which host country has seen the most goals? Host city?"
   ]
  },
  {
   "cell_type": "markdown",
   "id": "f2034acd",
   "metadata": {},
   "source": [
    "# Attendance groups+graph"
   ]
  },
  {
   "cell_type": "markdown",
   "id": "fb3c74d8",
   "metadata": {},
   "source": [
    "# Best performance for each participant? Average performance?"
   ]
  },
  {
   "cell_type": "code",
   "execution_count": null,
   "id": "f4e8e7e7",
   "metadata": {},
   "outputs": [],
   "source": [
    "team_df = matches.copy()"
   ]
  },
  {
   "cell_type": "code",
   "execution_count": null,
   "id": "baaf3c67",
   "metadata": {},
   "outputs": [],
   "source": [
    "team_df['home_result'] = team_df['stage']\n",
    "team_df['away_result'] = team_df['stage']"
   ]
  },
  {
   "cell_type": "code",
   "execution_count": null,
   "id": "d2087df3",
   "metadata": {},
   "outputs": [],
   "source": [
    "# Redefine champion function now that we need to separate home/away results\n",
    "def champion(row, team):\n",
    "    if (row['stage']=='Finals') & (row['winner']==row[team]):\n",
    "        return 'Champion'\n",
    "    else:\n",
    "        return row['stage']"
   ]
  },
  {
   "cell_type": "code",
   "execution_count": null,
   "id": "f0a57a6c",
   "metadata": {},
   "outputs": [],
   "source": [
    "team_df.head()"
   ]
  },
  {
   "cell_type": "code",
   "execution_count": null,
   "id": "4a97060d",
   "metadata": {},
   "outputs": [],
   "source": [
    "# Use the previously made \"champion\" function to add an additional value for each champion\n",
    "team_df['home_result'] = team_df.apply(lambda row: champion(row, 'home_name'), axis=1)"
   ]
  },
  {
   "cell_type": "code",
   "execution_count": null,
   "id": "3c478d91",
   "metadata": {
    "scrolled": true
   },
   "outputs": [],
   "source": [
    "team_df.loc[team_df['stage']=='Finals']"
   ]
  },
  {
   "cell_type": "markdown",
   "id": "4478d1d1",
   "metadata": {},
   "source": [
    "# Most appearances for team? Most group advances?"
   ]
  },
  {
   "cell_type": "markdown",
   "id": "a9b11728",
   "metadata": {},
   "source": [
    "# Most common matchups? Most contested matchups?"
   ]
  },
  {
   "cell_type": "markdown",
   "id": "46aa6cec",
   "metadata": {},
   "source": [
    "# Who has USA played the most?"
   ]
  },
  {
   "cell_type": "markdown",
   "id": "1a12bcf2",
   "metadata": {},
   "source": [
    "# Which squad has the most total goals? Highest avg goals?"
   ]
  },
  {
   "cell_type": "markdown",
   "id": "f3ec2e24",
   "metadata": {},
   "source": [
    "# Most halftime comebacks?"
   ]
  },
  {
   "cell_type": "code",
   "execution_count": null,
   "id": "c4fe7bd0",
   "metadata": {},
   "outputs": [],
   "source": [
    "# Find teams who won after being down at halftime\n",
    "comeback_wins = matches.loc[matches['winning_score_half1']<matches['losing_score_half1']]\n",
    "\n",
    "comeback_teams = comeback_wins.groupby('winner')['matchID'].count()\n",
    "comeback_teams = comeback_teams.sort_values(ascending=False)"
   ]
  },
  {
   "cell_type": "code",
   "execution_count": null,
   "id": "1fc98e26",
   "metadata": {},
   "outputs": [],
   "source": [
    "comeback_url = 'Analysis/Comebacks'"
   ]
  },
  {
   "cell_type": "code",
   "execution_count": null,
   "id": "a95ebdc6",
   "metadata": {},
   "outputs": [],
   "source": [
    "comeback_teams.count()\n",
    "\n",
    "comeback_teams.index\n",
    "\n",
    "comeback_teams_colors = ['yellow', 'red', 'cyan', 'orange', 'black',\n",
    "       'red', 'orange', 'red', 'green', 'red',\n",
    "       'green', 'firebrick', 'midnightblue', 'y', 'red', 'darkred',\n",
    "       'forestgreen', 'black', 'midnightblue', 'blue', 'black', 'red']"
   ]
  },
  {
   "cell_type": "code",
   "execution_count": null,
   "id": "75a5cce6",
   "metadata": {},
   "outputs": [],
   "source": [
    "fig,ax = plt.subplots(figsize=(25,5))\n",
    "ax.bar(comeback_teams.index,comeback_teams, color=comeback_teams_colors)\n",
    "\n",
    "ax.set_title('World Cup - Halftime Comeback Wins', fontsize=30)\n",
    "ax.set_xticks(np.arange(0,22,step=1))\n",
    "ax.set_xticklabels(labels=comeback_teams.index,rotation=60, fontsize=12)\n",
    "ax.set_xlabel('Country', fontsize=24)\n",
    "ax.set_yticks(ticks=np.arange(0,7,step=1),fontsize=12)\n",
    "ax.set_ylabel('Wins', rotation=20, fontsize=24)\n",
    "ax.yaxis.set_label_coords(-0.04,.45)\n",
    "\n",
    "plt.savefig(f'{comeback_url}/Comeback_Wins_by_Country')"
   ]
  },
  {
   "cell_type": "code",
   "execution_count": null,
   "id": "8c4375cc",
   "metadata": {
    "scrolled": true
   },
   "outputs": [],
   "source": [
    "comebacks_by_year = comeback_wins.groupby('year')['matchID'].count()"
   ]
  },
  {
   "cell_type": "code",
   "execution_count": null,
   "id": "bab6cc37",
   "metadata": {
    "scrolled": true
   },
   "outputs": [],
   "source": [
    "fig, ax = plt.subplots(figsize=(15,5))\n",
    "\n",
    "ax.bar(comebacks_by_year.index, comebacks_by_year)\n",
    "# Specify from 1930-2018 so it also shows years with no second-half comebacks\n",
    "ax.set_xticks(np.arange(1930,2018, step=4))\n",
    "ax.set_title('World Cup - Second-Half Comebacks by Year', fontsize=24)\n",
    "\n",
    "plt.savefig(f'{comeback_url}/Comeback_Wins_by_Year')\n",
    "\n",
    "fig.show()"
   ]
  },
  {
   "cell_type": "code",
   "execution_count": null,
   "id": "58a4fd35",
   "metadata": {},
   "outputs": [],
   "source": [
    "comebacks_by_host_country = comeback_wins.groupby('country')['matchID'].count()\n",
    "comebacks_by_host_country = comebacks_by_host_country.sort_values(ascending=False)"
   ]
  },
  {
   "cell_type": "code",
   "execution_count": null,
   "id": "4d817163",
   "metadata": {},
   "outputs": [],
   "source": [
    "comebacks_by_host_country_colors = ['yellow', 'mediumblue', 'k', \n",
    "                                     'skyblue', 'limegreen', 'g', \n",
    "                                     'firebrick', 'b', 'red', \n",
    "                                     'g', 'r', 'y',\n",
    "                                     'b', 'c']"
   ]
  },
  {
   "cell_type": "code",
   "execution_count": null,
   "id": "535aec01",
   "metadata": {},
   "outputs": [],
   "source": [
    "fig, ax = plt.subplots(figsize=(20,5))\n",
    "\n",
    "ax.bar(comebacks_by_host_country.index, comebacks_by_host_country, color=comebacks_by_host_country_colors)\n",
    "ax.set_title('World Cup - Second-Half Comebacks by Host Country', fontsize=24)\n",
    "\n",
    "plt.savefig(f'{comeback_url}/Comeback_Wins_by_Host')\n",
    "\n",
    "fig.show()"
   ]
  },
  {
   "cell_type": "code",
   "execution_count": null,
   "id": "7eb2bd1c",
   "metadata": {},
   "outputs": [],
   "source": [
    "comeback_wins['score_diff_half'] = comeback_wins['losing_score_half1'] - comeback_wins['winning_score_half1']\n",
    "comeback_wins['score_diff_final'] = comeback_wins['winning_score_final'] - comeback_wins['losing_score_final']\n",
    "comeback_wins['winning_score_half2'] = comeback_wins['winning_score_final'] - comeback_wins['winning_score_half1']\n",
    "comeback_wins['losing_score_half2'] = comeback_wins['losing_score_final'] - comeback_wins['losing_score_half1']"
   ]
  },
  {
   "cell_type": "code",
   "execution_count": null,
   "id": "ef3ce7e3",
   "metadata": {},
   "outputs": [],
   "source": [
    "losing_score_half2_group = comeback_wins.groupby('losing_score_half2')['matchID'].count()\n",
    "losing_score_half1_group = comeback_wins.groupby('losing_score_half1')['matchID'].count()"
   ]
  },
  {
   "cell_type": "code",
   "execution_count": null,
   "id": "d0f16f65",
   "metadata": {},
   "outputs": [],
   "source": [
    "fig,ax = plt.subplots(figsize=(20,5))\n",
    "\n",
    "labels = losing_score_half1_group.index\n",
    "labels_adj = []\n",
    "\n",
    "for i in range(len(labels)):\n",
    "    labels_adj.append(int(labels[i]))\n",
    "    labels_adj[i] = f'{labels_adj[i]} goals'\n",
    "    \n",
    "ax.set_title('First-Half Goals Allowed by Comeback Winners', fontsize=18)\n",
    "ax.pie(losing_score_half1_group, autopct='%2.0f%%', \n",
    "       colors=['b','r','m'], explode=[0,0,0.4],\n",
    "      textprops={'fontsize': 14})\n",
    "ax.legend(labels_adj)\n",
    "\n",
    "plt.savefig(f'{comeback_url}/Comeback_Goals_Allowed_Half1')\n",
    "\n",
    "fig.show()"
   ]
  },
  {
   "cell_type": "code",
   "execution_count": null,
   "id": "53f57bd6",
   "metadata": {
    "scrolled": true
   },
   "outputs": [],
   "source": [
    "fig,ax = plt.subplots(figsize=(20,5))\n",
    "\n",
    "labels = losing_score_half2_group.index\n",
    "labels_adj = []\n",
    "\n",
    "for i in range(len(labels)):\n",
    "    labels_adj.append(int(labels[i]))\n",
    "    labels_adj[i] = f'{labels_adj[i]} goals'\n",
    "    \n",
    "ax.set_title('Second-Half Goals Allowed by Comeback Winners', fontsize=18)\n",
    "ax.pie(losing_score_half2_group, autopct='%2.0f%%', colors=['b','r'],\n",
    "      textprops={'fontsize': 14})\n",
    "ax.legend(labels_adj)\n",
    "\n",
    "plt.savefig(f'{comeback_url}/Comeback_Goals_Allowed_Half2')\n",
    "\n",
    "fig.show()"
   ]
  },
  {
   "cell_type": "code",
   "execution_count": null,
   "id": "e24fe90e",
   "metadata": {
    "scrolled": true
   },
   "outputs": [],
   "source": [
    "comeback_stages = comeback_wins.groupby('stage')['matchID'].count().sort_values(ascending=False)"
   ]
  },
  {
   "cell_type": "code",
   "execution_count": null,
   "id": "636cb762",
   "metadata": {},
   "outputs": [],
   "source": [
    "fig,ax = plt.subplots(figsize=(10,10))\n",
    "\n",
    "labels = comeback_stages.index\n",
    "\n",
    "    \n",
    "ax.set_title('Comeback Wins by Tournament Stage', fontsize=18)\n",
    "ax.pie(comeback_stages, labels=comeback_stages,\n",
    "      textprops={'fontsize': 14})\n",
    "ax.legend(labels)\n",
    "\n",
    "plt.savefig(f'{comeback_url}/Comeback_Wins_by_Stage')\n",
    "\n",
    "fig.show()"
   ]
  }
 ],
 "metadata": {
  "kernelspec": {
   "display_name": "Python 3 (ipykernel)",
   "language": "python",
   "name": "python3"
  },
  "language_info": {
   "codemirror_mode": {
    "name": "ipython",
    "version": 3
   },
   "file_extension": ".py",
   "mimetype": "text/x-python",
   "name": "python",
   "nbconvert_exporter": "python",
   "pygments_lexer": "ipython3",
   "version": "3.7.13"
  }
 },
 "nbformat": 4,
 "nbformat_minor": 5
}
